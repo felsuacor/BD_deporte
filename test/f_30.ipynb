{
 "cells": [
  {
   "cell_type": "code",
   "execution_count": 2,
   "id": "6e43c4ff",
   "metadata": {},
   "outputs": [],
   "source": [
    "import xml.etree.ElementTree as ET\n",
    "import pandas as pd\n",
    "import plotly.graph_objects as go\n",
    "from sklearn.preprocessing import MinMaxScaler\n",
    "\n",
    "file = ET.parse('C:/Users/Felix/Desktop/Máster  BD Deporte/Módulo 7 - Proveedores de Datos Deportivos/f30/seasonstats-23-2019-174.xml')"
   ]
  },
  {
   "cell_type": "code",
   "execution_count": 3,
   "id": "c1534bdc",
   "metadata": {},
   "outputs": [
    {
     "name": "stdout",
     "output_type": "stream",
     "text": [
      "Athletic Club\n"
     ]
    }
   ],
   "source": [
    "# Se recorren la etiquetas Game de la etiqueta principal del fichero\n",
    "test_dict={}\n",
    "for team in file.getroot():\n",
    "    print(team.attrib.get(\"name\"))\n",
    "    for stat in team:\n",
    "        attribute=stat.attrib.get(\"name\")\n",
    "        value=stat.text\n",
    "        test_dict[attribute]=[value]\n",
    "del test_dict[None]"
   ]
  },
  {
   "cell_type": "code",
   "execution_count": 4,
   "id": "20fc5b72",
   "metadata": {},
   "outputs": [],
   "source": [
    "team_stats=pd.DataFrame.from_dict(data=test_dict, orient=\"index\")"
   ]
  },
  {
   "cell_type": "code",
   "execution_count": 5,
   "id": "e5e69255",
   "metadata": {},
   "outputs": [],
   "source": [
    "# Se recorren la etiquetas Game de la etiqueta principal del fichero\n",
    "players_dict={}\n",
    "player_stats={}\n",
    "root=file.getroot()\n",
    "for player in root.findall(\".//Player\"):\n",
    "    first_name=player.attrib.get(\"first_name\")\n",
    "    last_name=player.attrib.get(\"last_name\")\n",
    "    full_name=first_name + \" \" + last_name\n",
    "    for stat in player:\n",
    "        attribute=stat.attrib.get(\"name\")\n",
    "        value=stat.text\n",
    "        player_stats[attribute] = float(value) \n",
    "    \n",
    "    players_dict[full_name]=player_stats\n",
    "    player_stats={}"
   ]
  },
  {
   "cell_type": "code",
   "execution_count": 6,
   "id": "614be18b",
   "metadata": {},
   "outputs": [],
   "source": [
    "players_stats=pd.DataFrame.from_dict(data=players_dict, orient=\"index\")"
   ]
  },
  {
   "cell_type": "code",
   "execution_count": 7,
   "id": "a66de020",
   "metadata": {},
   "outputs": [
    {
     "data": {
      "text/html": [
       "<div>\n",
       "<style scoped>\n",
       "    .dataframe tbody tr th:only-of-type {\n",
       "        vertical-align: middle;\n",
       "    }\n",
       "\n",
       "    .dataframe tbody tr th {\n",
       "        vertical-align: top;\n",
       "    }\n",
       "\n",
       "    .dataframe thead th {\n",
       "        text-align: right;\n",
       "    }\n",
       "</style>\n",
       "<table border=\"1\" class=\"dataframe\">\n",
       "  <thead>\n",
       "    <tr style=\"text-align: right;\">\n",
       "      <th></th>\n",
       "      <th>Time Played</th>\n",
       "      <th>Substitute On</th>\n",
       "      <th>Successful Lay-offs</th>\n",
       "      <th>Goals</th>\n",
       "      <th>Right Foot Goals</th>\n",
       "      <th>Open Play Passes</th>\n",
       "      <th>Corners Won</th>\n",
       "      <th>Backward Passes</th>\n",
       "      <th>Successful Passes Opposition Half</th>\n",
       "      <th>Yellow Cards</th>\n",
       "      <th>...</th>\n",
       "      <th>Saves Made from Inside Box</th>\n",
       "      <th>Saves made - caught</th>\n",
       "      <th>GK Unsuccessful Distribution</th>\n",
       "      <th>Set Pieces Goals</th>\n",
       "      <th>Own Goal Scored</th>\n",
       "      <th>Total Red Cards</th>\n",
       "      <th>Straight Red Cards</th>\n",
       "      <th>Goalkeeper Smother</th>\n",
       "      <th>Penalties Faced</th>\n",
       "      <th>Clearances Off the Line</th>\n",
       "    </tr>\n",
       "  </thead>\n",
       "  <tbody>\n",
       "    <tr>\n",
       "      <th>Aritz Aduriz</th>\n",
       "      <td>194.0</td>\n",
       "      <td>14.0</td>\n",
       "      <td>3.0</td>\n",
       "      <td>1.0</td>\n",
       "      <td>1.0</td>\n",
       "      <td>56.0</td>\n",
       "      <td>1.0</td>\n",
       "      <td>8.0</td>\n",
       "      <td>24.0</td>\n",
       "      <td>3.0</td>\n",
       "      <td>...</td>\n",
       "      <td>NaN</td>\n",
       "      <td>NaN</td>\n",
       "      <td>NaN</td>\n",
       "      <td>NaN</td>\n",
       "      <td>NaN</td>\n",
       "      <td>NaN</td>\n",
       "      <td>NaN</td>\n",
       "      <td>NaN</td>\n",
       "      <td>NaN</td>\n",
       "      <td>NaN</td>\n",
       "    </tr>\n",
       "    <tr>\n",
       "      <th>Mikel Balenziaga</th>\n",
       "      <td>562.0</td>\n",
       "      <td>3.0</td>\n",
       "      <td>NaN</td>\n",
       "      <td>NaN</td>\n",
       "      <td>NaN</td>\n",
       "      <td>191.0</td>\n",
       "      <td>3.0</td>\n",
       "      <td>31.0</td>\n",
       "      <td>63.0</td>\n",
       "      <td>1.0</td>\n",
       "      <td>...</td>\n",
       "      <td>NaN</td>\n",
       "      <td>NaN</td>\n",
       "      <td>NaN</td>\n",
       "      <td>NaN</td>\n",
       "      <td>NaN</td>\n",
       "      <td>NaN</td>\n",
       "      <td>NaN</td>\n",
       "      <td>NaN</td>\n",
       "      <td>NaN</td>\n",
       "      <td>NaN</td>\n",
       "    </tr>\n",
       "    <tr>\n",
       "      <th>Yuri Berchiche Izeta</th>\n",
       "      <td>2851.0</td>\n",
       "      <td>1.0</td>\n",
       "      <td>NaN</td>\n",
       "      <td>2.0</td>\n",
       "      <td>NaN</td>\n",
       "      <td>1255.0</td>\n",
       "      <td>25.0</td>\n",
       "      <td>173.0</td>\n",
       "      <td>605.0</td>\n",
       "      <td>7.0</td>\n",
       "      <td>...</td>\n",
       "      <td>NaN</td>\n",
       "      <td>NaN</td>\n",
       "      <td>NaN</td>\n",
       "      <td>NaN</td>\n",
       "      <td>NaN</td>\n",
       "      <td>NaN</td>\n",
       "      <td>NaN</td>\n",
       "      <td>NaN</td>\n",
       "      <td>NaN</td>\n",
       "      <td>NaN</td>\n",
       "    </tr>\n",
       "    <tr>\n",
       "      <th>Ander Capa</th>\n",
       "      <td>2875.0</td>\n",
       "      <td>3.0</td>\n",
       "      <td>NaN</td>\n",
       "      <td>3.0</td>\n",
       "      <td>3.0</td>\n",
       "      <td>1130.0</td>\n",
       "      <td>17.0</td>\n",
       "      <td>247.0</td>\n",
       "      <td>505.0</td>\n",
       "      <td>10.0</td>\n",
       "      <td>...</td>\n",
       "      <td>NaN</td>\n",
       "      <td>NaN</td>\n",
       "      <td>NaN</td>\n",
       "      <td>NaN</td>\n",
       "      <td>NaN</td>\n",
       "      <td>NaN</td>\n",
       "      <td>NaN</td>\n",
       "      <td>NaN</td>\n",
       "      <td>NaN</td>\n",
       "      <td>NaN</td>\n",
       "    </tr>\n",
       "    <tr>\n",
       "      <th>Iñigo Córdoba</th>\n",
       "      <td>1448.0</td>\n",
       "      <td>3.0</td>\n",
       "      <td>6.0</td>\n",
       "      <td>1.0</td>\n",
       "      <td>1.0</td>\n",
       "      <td>413.0</td>\n",
       "      <td>7.0</td>\n",
       "      <td>94.0</td>\n",
       "      <td>208.0</td>\n",
       "      <td>4.0</td>\n",
       "      <td>...</td>\n",
       "      <td>NaN</td>\n",
       "      <td>NaN</td>\n",
       "      <td>NaN</td>\n",
       "      <td>NaN</td>\n",
       "      <td>NaN</td>\n",
       "      <td>NaN</td>\n",
       "      <td>NaN</td>\n",
       "      <td>NaN</td>\n",
       "      <td>NaN</td>\n",
       "      <td>NaN</td>\n",
       "    </tr>\n",
       "    <tr>\n",
       "      <th>Óscar De Marcos</th>\n",
       "      <td>540.0</td>\n",
       "      <td>7.0</td>\n",
       "      <td>2.0</td>\n",
       "      <td>NaN</td>\n",
       "      <td>NaN</td>\n",
       "      <td>173.0</td>\n",
       "      <td>1.0</td>\n",
       "      <td>32.0</td>\n",
       "      <td>90.0</td>\n",
       "      <td>1.0</td>\n",
       "      <td>...</td>\n",
       "      <td>NaN</td>\n",
       "      <td>NaN</td>\n",
       "      <td>NaN</td>\n",
       "      <td>NaN</td>\n",
       "      <td>NaN</td>\n",
       "      <td>NaN</td>\n",
       "      <td>NaN</td>\n",
       "      <td>NaN</td>\n",
       "      <td>NaN</td>\n",
       "      <td>NaN</td>\n",
       "    </tr>\n",
       "    <tr>\n",
       "      <th>Beñat Etxebarria</th>\n",
       "      <td>388.0</td>\n",
       "      <td>8.0</td>\n",
       "      <td>NaN</td>\n",
       "      <td>NaN</td>\n",
       "      <td>NaN</td>\n",
       "      <td>164.0</td>\n",
       "      <td>1.0</td>\n",
       "      <td>26.0</td>\n",
       "      <td>89.0</td>\n",
       "      <td>NaN</td>\n",
       "      <td>...</td>\n",
       "      <td>NaN</td>\n",
       "      <td>NaN</td>\n",
       "      <td>NaN</td>\n",
       "      <td>NaN</td>\n",
       "      <td>NaN</td>\n",
       "      <td>NaN</td>\n",
       "      <td>NaN</td>\n",
       "      <td>NaN</td>\n",
       "      <td>NaN</td>\n",
       "      <td>NaN</td>\n",
       "    </tr>\n",
       "    <tr>\n",
       "      <th>Daniel García Carrillo</th>\n",
       "      <td>3027.0</td>\n",
       "      <td>3.0</td>\n",
       "      <td>NaN</td>\n",
       "      <td>NaN</td>\n",
       "      <td>NaN</td>\n",
       "      <td>1483.0</td>\n",
       "      <td>2.0</td>\n",
       "      <td>205.0</td>\n",
       "      <td>556.0</td>\n",
       "      <td>11.0</td>\n",
       "      <td>...</td>\n",
       "      <td>NaN</td>\n",
       "      <td>NaN</td>\n",
       "      <td>NaN</td>\n",
       "      <td>NaN</td>\n",
       "      <td>NaN</td>\n",
       "      <td>NaN</td>\n",
       "      <td>NaN</td>\n",
       "      <td>NaN</td>\n",
       "      <td>NaN</td>\n",
       "      <td>NaN</td>\n",
       "    </tr>\n",
       "    <tr>\n",
       "      <th>Raúl García</th>\n",
       "      <td>2876.0</td>\n",
       "      <td>2.0</td>\n",
       "      <td>24.0</td>\n",
       "      <td>15.0</td>\n",
       "      <td>10.0</td>\n",
       "      <td>934.0</td>\n",
       "      <td>23.0</td>\n",
       "      <td>153.0</td>\n",
       "      <td>378.0</td>\n",
       "      <td>11.0</td>\n",
       "      <td>...</td>\n",
       "      <td>NaN</td>\n",
       "      <td>NaN</td>\n",
       "      <td>NaN</td>\n",
       "      <td>NaN</td>\n",
       "      <td>NaN</td>\n",
       "      <td>NaN</td>\n",
       "      <td>NaN</td>\n",
       "      <td>NaN</td>\n",
       "      <td>NaN</td>\n",
       "      <td>NaN</td>\n",
       "    </tr>\n",
       "    <tr>\n",
       "      <th>Ibai Gómez</th>\n",
       "      <td>690.0</td>\n",
       "      <td>11.0</td>\n",
       "      <td>5.0</td>\n",
       "      <td>NaN</td>\n",
       "      <td>NaN</td>\n",
       "      <td>196.0</td>\n",
       "      <td>10.0</td>\n",
       "      <td>60.0</td>\n",
       "      <td>145.0</td>\n",
       "      <td>NaN</td>\n",
       "      <td>...</td>\n",
       "      <td>NaN</td>\n",
       "      <td>NaN</td>\n",
       "      <td>NaN</td>\n",
       "      <td>NaN</td>\n",
       "      <td>NaN</td>\n",
       "      <td>NaN</td>\n",
       "      <td>NaN</td>\n",
       "      <td>NaN</td>\n",
       "      <td>NaN</td>\n",
       "      <td>NaN</td>\n",
       "    </tr>\n",
       "    <tr>\n",
       "      <th>Iago Herrerín</th>\n",
       "      <td>424.0</td>\n",
       "      <td>1.0</td>\n",
       "      <td>NaN</td>\n",
       "      <td>NaN</td>\n",
       "      <td>NaN</td>\n",
       "      <td>81.0</td>\n",
       "      <td>NaN</td>\n",
       "      <td>NaN</td>\n",
       "      <td>24.0</td>\n",
       "      <td>NaN</td>\n",
       "      <td>...</td>\n",
       "      <td>8.0</td>\n",
       "      <td>2.0</td>\n",
       "      <td>13.0</td>\n",
       "      <td>NaN</td>\n",
       "      <td>NaN</td>\n",
       "      <td>NaN</td>\n",
       "      <td>NaN</td>\n",
       "      <td>NaN</td>\n",
       "      <td>NaN</td>\n",
       "      <td>NaN</td>\n",
       "    </tr>\n",
       "    <tr>\n",
       "      <th>Kenan Kodro</th>\n",
       "      <td>360.0</td>\n",
       "      <td>8.0</td>\n",
       "      <td>2.0</td>\n",
       "      <td>1.0</td>\n",
       "      <td>NaN</td>\n",
       "      <td>76.0</td>\n",
       "      <td>1.0</td>\n",
       "      <td>20.0</td>\n",
       "      <td>31.0</td>\n",
       "      <td>NaN</td>\n",
       "      <td>...</td>\n",
       "      <td>NaN</td>\n",
       "      <td>NaN</td>\n",
       "      <td>NaN</td>\n",
       "      <td>NaN</td>\n",
       "      <td>NaN</td>\n",
       "      <td>NaN</td>\n",
       "      <td>NaN</td>\n",
       "      <td>NaN</td>\n",
       "      <td>NaN</td>\n",
       "      <td>NaN</td>\n",
       "    </tr>\n",
       "    <tr>\n",
       "      <th>Gaizka Larrazabal</th>\n",
       "      <td>244.0</td>\n",
       "      <td>8.0</td>\n",
       "      <td>2.0</td>\n",
       "      <td>NaN</td>\n",
       "      <td>NaN</td>\n",
       "      <td>62.0</td>\n",
       "      <td>5.0</td>\n",
       "      <td>21.0</td>\n",
       "      <td>24.0</td>\n",
       "      <td>NaN</td>\n",
       "      <td>...</td>\n",
       "      <td>NaN</td>\n",
       "      <td>NaN</td>\n",
       "      <td>NaN</td>\n",
       "      <td>NaN</td>\n",
       "      <td>NaN</td>\n",
       "      <td>NaN</td>\n",
       "      <td>NaN</td>\n",
       "      <td>NaN</td>\n",
       "      <td>NaN</td>\n",
       "      <td>NaN</td>\n",
       "    </tr>\n",
       "    <tr>\n",
       "      <th>Íñigo Lekue</th>\n",
       "      <td>617.0</td>\n",
       "      <td>8.0</td>\n",
       "      <td>2.0</td>\n",
       "      <td>NaN</td>\n",
       "      <td>NaN</td>\n",
       "      <td>198.0</td>\n",
       "      <td>4.0</td>\n",
       "      <td>57.0</td>\n",
       "      <td>100.0</td>\n",
       "      <td>NaN</td>\n",
       "      <td>...</td>\n",
       "      <td>NaN</td>\n",
       "      <td>NaN</td>\n",
       "      <td>NaN</td>\n",
       "      <td>NaN</td>\n",
       "      <td>NaN</td>\n",
       "      <td>NaN</td>\n",
       "      <td>NaN</td>\n",
       "      <td>NaN</td>\n",
       "      <td>NaN</td>\n",
       "      <td>NaN</td>\n",
       "    </tr>\n",
       "    <tr>\n",
       "      <th>Unai López</th>\n",
       "      <td>1804.0</td>\n",
       "      <td>2.0</td>\n",
       "      <td>3.0</td>\n",
       "      <td>1.0</td>\n",
       "      <td>1.0</td>\n",
       "      <td>1033.0</td>\n",
       "      <td>11.0</td>\n",
       "      <td>235.0</td>\n",
       "      <td>543.0</td>\n",
       "      <td>6.0</td>\n",
       "      <td>...</td>\n",
       "      <td>NaN</td>\n",
       "      <td>NaN</td>\n",
       "      <td>NaN</td>\n",
       "      <td>1.0</td>\n",
       "      <td>NaN</td>\n",
       "      <td>NaN</td>\n",
       "      <td>NaN</td>\n",
       "      <td>NaN</td>\n",
       "      <td>NaN</td>\n",
       "      <td>NaN</td>\n",
       "    </tr>\n",
       "    <tr>\n",
       "      <th>Íñigo Martínez</th>\n",
       "      <td>2970.0</td>\n",
       "      <td>NaN</td>\n",
       "      <td>NaN</td>\n",
       "      <td>1.0</td>\n",
       "      <td>NaN</td>\n",
       "      <td>1424.0</td>\n",
       "      <td>5.0</td>\n",
       "      <td>89.0</td>\n",
       "      <td>465.0</td>\n",
       "      <td>10.0</td>\n",
       "      <td>...</td>\n",
       "      <td>NaN</td>\n",
       "      <td>NaN</td>\n",
       "      <td>NaN</td>\n",
       "      <td>NaN</td>\n",
       "      <td>1.0</td>\n",
       "      <td>NaN</td>\n",
       "      <td>NaN</td>\n",
       "      <td>NaN</td>\n",
       "      <td>NaN</td>\n",
       "      <td>NaN</td>\n",
       "    </tr>\n",
       "    <tr>\n",
       "      <th>Iker Muniain</th>\n",
       "      <td>2393.0</td>\n",
       "      <td>5.0</td>\n",
       "      <td>25.0</td>\n",
       "      <td>5.0</td>\n",
       "      <td>4.0</td>\n",
       "      <td>965.0</td>\n",
       "      <td>17.0</td>\n",
       "      <td>253.0</td>\n",
       "      <td>626.0</td>\n",
       "      <td>4.0</td>\n",
       "      <td>...</td>\n",
       "      <td>NaN</td>\n",
       "      <td>NaN</td>\n",
       "      <td>NaN</td>\n",
       "      <td>NaN</td>\n",
       "      <td>NaN</td>\n",
       "      <td>1.0</td>\n",
       "      <td>1.0</td>\n",
       "      <td>NaN</td>\n",
       "      <td>NaN</td>\n",
       "      <td>NaN</td>\n",
       "    </tr>\n",
       "    <tr>\n",
       "      <th>Unai Núñez</th>\n",
       "      <td>1569.0</td>\n",
       "      <td>4.0</td>\n",
       "      <td>NaN</td>\n",
       "      <td>NaN</td>\n",
       "      <td>NaN</td>\n",
       "      <td>706.0</td>\n",
       "      <td>1.0</td>\n",
       "      <td>51.0</td>\n",
       "      <td>163.0</td>\n",
       "      <td>7.0</td>\n",
       "      <td>...</td>\n",
       "      <td>NaN</td>\n",
       "      <td>NaN</td>\n",
       "      <td>NaN</td>\n",
       "      <td>NaN</td>\n",
       "      <td>1.0</td>\n",
       "      <td>NaN</td>\n",
       "      <td>NaN</td>\n",
       "      <td>NaN</td>\n",
       "      <td>NaN</td>\n",
       "      <td>NaN</td>\n",
       "    </tr>\n",
       "    <tr>\n",
       "      <th>Mikel San José</th>\n",
       "      <td>355.0</td>\n",
       "      <td>6.0</td>\n",
       "      <td>NaN</td>\n",
       "      <td>NaN</td>\n",
       "      <td>NaN</td>\n",
       "      <td>131.0</td>\n",
       "      <td>1.0</td>\n",
       "      <td>20.0</td>\n",
       "      <td>40.0</td>\n",
       "      <td>3.0</td>\n",
       "      <td>...</td>\n",
       "      <td>NaN</td>\n",
       "      <td>NaN</td>\n",
       "      <td>NaN</td>\n",
       "      <td>NaN</td>\n",
       "      <td>NaN</td>\n",
       "      <td>NaN</td>\n",
       "      <td>NaN</td>\n",
       "      <td>NaN</td>\n",
       "      <td>NaN</td>\n",
       "      <td>NaN</td>\n",
       "    </tr>\n",
       "    <tr>\n",
       "      <th>Oihan Sancet</th>\n",
       "      <td>742.0</td>\n",
       "      <td>8.0</td>\n",
       "      <td>9.0</td>\n",
       "      <td>1.0</td>\n",
       "      <td>1.0</td>\n",
       "      <td>195.0</td>\n",
       "      <td>NaN</td>\n",
       "      <td>46.0</td>\n",
       "      <td>110.0</td>\n",
       "      <td>1.0</td>\n",
       "      <td>...</td>\n",
       "      <td>NaN</td>\n",
       "      <td>NaN</td>\n",
       "      <td>NaN</td>\n",
       "      <td>NaN</td>\n",
       "      <td>NaN</td>\n",
       "      <td>NaN</td>\n",
       "      <td>NaN</td>\n",
       "      <td>NaN</td>\n",
       "      <td>NaN</td>\n",
       "      <td>NaN</td>\n",
       "    </tr>\n",
       "    <tr>\n",
       "      <th>Unai Simón</th>\n",
       "      <td>2992.0</td>\n",
       "      <td>NaN</td>\n",
       "      <td>NaN</td>\n",
       "      <td>NaN</td>\n",
       "      <td>NaN</td>\n",
       "      <td>517.0</td>\n",
       "      <td>NaN</td>\n",
       "      <td>NaN</td>\n",
       "      <td>251.0</td>\n",
       "      <td>2.0</td>\n",
       "      <td>...</td>\n",
       "      <td>52.0</td>\n",
       "      <td>6.0</td>\n",
       "      <td>141.0</td>\n",
       "      <td>NaN</td>\n",
       "      <td>NaN</td>\n",
       "      <td>1.0</td>\n",
       "      <td>1.0</td>\n",
       "      <td>8.0</td>\n",
       "      <td>7.0</td>\n",
       "      <td>NaN</td>\n",
       "    </tr>\n",
       "    <tr>\n",
       "      <th>Unai Vencedor</th>\n",
       "      <td>74.0</td>\n",
       "      <td>NaN</td>\n",
       "      <td>NaN</td>\n",
       "      <td>NaN</td>\n",
       "      <td>NaN</td>\n",
       "      <td>32.0</td>\n",
       "      <td>NaN</td>\n",
       "      <td>4.0</td>\n",
       "      <td>17.0</td>\n",
       "      <td>1.0</td>\n",
       "      <td>...</td>\n",
       "      <td>NaN</td>\n",
       "      <td>NaN</td>\n",
       "      <td>NaN</td>\n",
       "      <td>NaN</td>\n",
       "      <td>NaN</td>\n",
       "      <td>NaN</td>\n",
       "      <td>NaN</td>\n",
       "      <td>NaN</td>\n",
       "      <td>NaN</td>\n",
       "      <td>NaN</td>\n",
       "    </tr>\n",
       "    <tr>\n",
       "      <th>Mikel Vesga</th>\n",
       "      <td>1264.0</td>\n",
       "      <td>7.0</td>\n",
       "      <td>3.0</td>\n",
       "      <td>NaN</td>\n",
       "      <td>NaN</td>\n",
       "      <td>522.0</td>\n",
       "      <td>3.0</td>\n",
       "      <td>86.0</td>\n",
       "      <td>234.0</td>\n",
       "      <td>3.0</td>\n",
       "      <td>...</td>\n",
       "      <td>NaN</td>\n",
       "      <td>NaN</td>\n",
       "      <td>NaN</td>\n",
       "      <td>NaN</td>\n",
       "      <td>NaN</td>\n",
       "      <td>NaN</td>\n",
       "      <td>NaN</td>\n",
       "      <td>NaN</td>\n",
       "      <td>NaN</td>\n",
       "      <td>NaN</td>\n",
       "    </tr>\n",
       "    <tr>\n",
       "      <th>Asier Villalibre</th>\n",
       "      <td>523.0</td>\n",
       "      <td>14.0</td>\n",
       "      <td>5.0</td>\n",
       "      <td>3.0</td>\n",
       "      <td>1.0</td>\n",
       "      <td>97.0</td>\n",
       "      <td>8.0</td>\n",
       "      <td>22.0</td>\n",
       "      <td>47.0</td>\n",
       "      <td>NaN</td>\n",
       "      <td>...</td>\n",
       "      <td>NaN</td>\n",
       "      <td>NaN</td>\n",
       "      <td>NaN</td>\n",
       "      <td>NaN</td>\n",
       "      <td>NaN</td>\n",
       "      <td>NaN</td>\n",
       "      <td>NaN</td>\n",
       "      <td>NaN</td>\n",
       "      <td>NaN</td>\n",
       "      <td>NaN</td>\n",
       "    </tr>\n",
       "    <tr>\n",
       "      <th>Iñaki Williams</th>\n",
       "      <td>2957.0</td>\n",
       "      <td>4.0</td>\n",
       "      <td>28.0</td>\n",
       "      <td>6.0</td>\n",
       "      <td>5.0</td>\n",
       "      <td>632.0</td>\n",
       "      <td>29.0</td>\n",
       "      <td>192.0</td>\n",
       "      <td>353.0</td>\n",
       "      <td>3.0</td>\n",
       "      <td>...</td>\n",
       "      <td>NaN</td>\n",
       "      <td>NaN</td>\n",
       "      <td>NaN</td>\n",
       "      <td>NaN</td>\n",
       "      <td>NaN</td>\n",
       "      <td>NaN</td>\n",
       "      <td>NaN</td>\n",
       "      <td>NaN</td>\n",
       "      <td>NaN</td>\n",
       "      <td>NaN</td>\n",
       "    </tr>\n",
       "    <tr>\n",
       "      <th>Yeray Álvarez</th>\n",
       "      <td>2811.0</td>\n",
       "      <td>NaN</td>\n",
       "      <td>NaN</td>\n",
       "      <td>NaN</td>\n",
       "      <td>NaN</td>\n",
       "      <td>1410.0</td>\n",
       "      <td>4.0</td>\n",
       "      <td>117.0</td>\n",
       "      <td>397.0</td>\n",
       "      <td>2.0</td>\n",
       "      <td>...</td>\n",
       "      <td>NaN</td>\n",
       "      <td>NaN</td>\n",
       "      <td>NaN</td>\n",
       "      <td>NaN</td>\n",
       "      <td>NaN</td>\n",
       "      <td>NaN</td>\n",
       "      <td>NaN</td>\n",
       "      <td>NaN</td>\n",
       "      <td>NaN</td>\n",
       "      <td>2.0</td>\n",
       "    </tr>\n",
       "  </tbody>\n",
       "</table>\n",
       "<p>26 rows × 112 columns</p>\n",
       "</div>"
      ],
      "text/plain": [
       "                        Time Played  Substitute On  Successful Lay-offs  \\\n",
       "Aritz Aduriz                  194.0           14.0                  3.0   \n",
       "Mikel Balenziaga              562.0            3.0                  NaN   \n",
       "Yuri Berchiche Izeta         2851.0            1.0                  NaN   \n",
       "Ander Capa                   2875.0            3.0                  NaN   \n",
       "Iñigo Córdoba                1448.0            3.0                  6.0   \n",
       "Óscar De Marcos               540.0            7.0                  2.0   \n",
       "Beñat Etxebarria              388.0            8.0                  NaN   \n",
       "Daniel García Carrillo       3027.0            3.0                  NaN   \n",
       "Raúl García                  2876.0            2.0                 24.0   \n",
       "Ibai Gómez                    690.0           11.0                  5.0   \n",
       "Iago Herrerín                 424.0            1.0                  NaN   \n",
       "Kenan Kodro                   360.0            8.0                  2.0   \n",
       "Gaizka Larrazabal             244.0            8.0                  2.0   \n",
       "Íñigo Lekue                   617.0            8.0                  2.0   \n",
       "Unai López                   1804.0            2.0                  3.0   \n",
       "Íñigo Martínez               2970.0            NaN                  NaN   \n",
       "Iker Muniain                 2393.0            5.0                 25.0   \n",
       "Unai Núñez                   1569.0            4.0                  NaN   \n",
       "Mikel San José                355.0            6.0                  NaN   \n",
       "Oihan Sancet                  742.0            8.0                  9.0   \n",
       "Unai Simón                   2992.0            NaN                  NaN   \n",
       "Unai Vencedor                  74.0            NaN                  NaN   \n",
       "Mikel Vesga                  1264.0            7.0                  3.0   \n",
       "Asier Villalibre              523.0           14.0                  5.0   \n",
       "Iñaki Williams               2957.0            4.0                 28.0   \n",
       "Yeray Álvarez                2811.0            NaN                  NaN   \n",
       "\n",
       "                        Goals  Right Foot Goals  Open Play Passes  \\\n",
       "Aritz Aduriz              1.0               1.0              56.0   \n",
       "Mikel Balenziaga          NaN               NaN             191.0   \n",
       "Yuri Berchiche Izeta      2.0               NaN            1255.0   \n",
       "Ander Capa                3.0               3.0            1130.0   \n",
       "Iñigo Córdoba             1.0               1.0             413.0   \n",
       "Óscar De Marcos           NaN               NaN             173.0   \n",
       "Beñat Etxebarria          NaN               NaN             164.0   \n",
       "Daniel García Carrillo    NaN               NaN            1483.0   \n",
       "Raúl García              15.0              10.0             934.0   \n",
       "Ibai Gómez                NaN               NaN             196.0   \n",
       "Iago Herrerín             NaN               NaN              81.0   \n",
       "Kenan Kodro               1.0               NaN              76.0   \n",
       "Gaizka Larrazabal         NaN               NaN              62.0   \n",
       "Íñigo Lekue               NaN               NaN             198.0   \n",
       "Unai López                1.0               1.0            1033.0   \n",
       "Íñigo Martínez            1.0               NaN            1424.0   \n",
       "Iker Muniain              5.0               4.0             965.0   \n",
       "Unai Núñez                NaN               NaN             706.0   \n",
       "Mikel San José            NaN               NaN             131.0   \n",
       "Oihan Sancet              1.0               1.0             195.0   \n",
       "Unai Simón                NaN               NaN             517.0   \n",
       "Unai Vencedor             NaN               NaN              32.0   \n",
       "Mikel Vesga               NaN               NaN             522.0   \n",
       "Asier Villalibre          3.0               1.0              97.0   \n",
       "Iñaki Williams            6.0               5.0             632.0   \n",
       "Yeray Álvarez             NaN               NaN            1410.0   \n",
       "\n",
       "                        Corners Won  Backward Passes  \\\n",
       "Aritz Aduriz                    1.0              8.0   \n",
       "Mikel Balenziaga                3.0             31.0   \n",
       "Yuri Berchiche Izeta           25.0            173.0   \n",
       "Ander Capa                     17.0            247.0   \n",
       "Iñigo Córdoba                   7.0             94.0   \n",
       "Óscar De Marcos                 1.0             32.0   \n",
       "Beñat Etxebarria                1.0             26.0   \n",
       "Daniel García Carrillo          2.0            205.0   \n",
       "Raúl García                    23.0            153.0   \n",
       "Ibai Gómez                     10.0             60.0   \n",
       "Iago Herrerín                   NaN              NaN   \n",
       "Kenan Kodro                     1.0             20.0   \n",
       "Gaizka Larrazabal               5.0             21.0   \n",
       "Íñigo Lekue                     4.0             57.0   \n",
       "Unai López                     11.0            235.0   \n",
       "Íñigo Martínez                  5.0             89.0   \n",
       "Iker Muniain                   17.0            253.0   \n",
       "Unai Núñez                      1.0             51.0   \n",
       "Mikel San José                  1.0             20.0   \n",
       "Oihan Sancet                    NaN             46.0   \n",
       "Unai Simón                      NaN              NaN   \n",
       "Unai Vencedor                   NaN              4.0   \n",
       "Mikel Vesga                     3.0             86.0   \n",
       "Asier Villalibre                8.0             22.0   \n",
       "Iñaki Williams                 29.0            192.0   \n",
       "Yeray Álvarez                   4.0            117.0   \n",
       "\n",
       "                        Successful Passes Opposition Half  Yellow Cards  ...  \\\n",
       "Aritz Aduriz                                         24.0           3.0  ...   \n",
       "Mikel Balenziaga                                     63.0           1.0  ...   \n",
       "Yuri Berchiche Izeta                                605.0           7.0  ...   \n",
       "Ander Capa                                          505.0          10.0  ...   \n",
       "Iñigo Córdoba                                       208.0           4.0  ...   \n",
       "Óscar De Marcos                                      90.0           1.0  ...   \n",
       "Beñat Etxebarria                                     89.0           NaN  ...   \n",
       "Daniel García Carrillo                              556.0          11.0  ...   \n",
       "Raúl García                                         378.0          11.0  ...   \n",
       "Ibai Gómez                                          145.0           NaN  ...   \n",
       "Iago Herrerín                                        24.0           NaN  ...   \n",
       "Kenan Kodro                                          31.0           NaN  ...   \n",
       "Gaizka Larrazabal                                    24.0           NaN  ...   \n",
       "Íñigo Lekue                                         100.0           NaN  ...   \n",
       "Unai López                                          543.0           6.0  ...   \n",
       "Íñigo Martínez                                      465.0          10.0  ...   \n",
       "Iker Muniain                                        626.0           4.0  ...   \n",
       "Unai Núñez                                          163.0           7.0  ...   \n",
       "Mikel San José                                       40.0           3.0  ...   \n",
       "Oihan Sancet                                        110.0           1.0  ...   \n",
       "Unai Simón                                          251.0           2.0  ...   \n",
       "Unai Vencedor                                        17.0           1.0  ...   \n",
       "Mikel Vesga                                         234.0           3.0  ...   \n",
       "Asier Villalibre                                     47.0           NaN  ...   \n",
       "Iñaki Williams                                      353.0           3.0  ...   \n",
       "Yeray Álvarez                                       397.0           2.0  ...   \n",
       "\n",
       "                        Saves Made from Inside Box  Saves made - caught  \\\n",
       "Aritz Aduriz                                   NaN                  NaN   \n",
       "Mikel Balenziaga                               NaN                  NaN   \n",
       "Yuri Berchiche Izeta                           NaN                  NaN   \n",
       "Ander Capa                                     NaN                  NaN   \n",
       "Iñigo Córdoba                                  NaN                  NaN   \n",
       "Óscar De Marcos                                NaN                  NaN   \n",
       "Beñat Etxebarria                               NaN                  NaN   \n",
       "Daniel García Carrillo                         NaN                  NaN   \n",
       "Raúl García                                    NaN                  NaN   \n",
       "Ibai Gómez                                     NaN                  NaN   \n",
       "Iago Herrerín                                  8.0                  2.0   \n",
       "Kenan Kodro                                    NaN                  NaN   \n",
       "Gaizka Larrazabal                              NaN                  NaN   \n",
       "Íñigo Lekue                                    NaN                  NaN   \n",
       "Unai López                                     NaN                  NaN   \n",
       "Íñigo Martínez                                 NaN                  NaN   \n",
       "Iker Muniain                                   NaN                  NaN   \n",
       "Unai Núñez                                     NaN                  NaN   \n",
       "Mikel San José                                 NaN                  NaN   \n",
       "Oihan Sancet                                   NaN                  NaN   \n",
       "Unai Simón                                    52.0                  6.0   \n",
       "Unai Vencedor                                  NaN                  NaN   \n",
       "Mikel Vesga                                    NaN                  NaN   \n",
       "Asier Villalibre                               NaN                  NaN   \n",
       "Iñaki Williams                                 NaN                  NaN   \n",
       "Yeray Álvarez                                  NaN                  NaN   \n",
       "\n",
       "                        GK Unsuccessful Distribution  Set Pieces Goals  \\\n",
       "Aritz Aduriz                                     NaN               NaN   \n",
       "Mikel Balenziaga                                 NaN               NaN   \n",
       "Yuri Berchiche Izeta                             NaN               NaN   \n",
       "Ander Capa                                       NaN               NaN   \n",
       "Iñigo Córdoba                                    NaN               NaN   \n",
       "Óscar De Marcos                                  NaN               NaN   \n",
       "Beñat Etxebarria                                 NaN               NaN   \n",
       "Daniel García Carrillo                           NaN               NaN   \n",
       "Raúl García                                      NaN               NaN   \n",
       "Ibai Gómez                                       NaN               NaN   \n",
       "Iago Herrerín                                   13.0               NaN   \n",
       "Kenan Kodro                                      NaN               NaN   \n",
       "Gaizka Larrazabal                                NaN               NaN   \n",
       "Íñigo Lekue                                      NaN               NaN   \n",
       "Unai López                                       NaN               1.0   \n",
       "Íñigo Martínez                                   NaN               NaN   \n",
       "Iker Muniain                                     NaN               NaN   \n",
       "Unai Núñez                                       NaN               NaN   \n",
       "Mikel San José                                   NaN               NaN   \n",
       "Oihan Sancet                                     NaN               NaN   \n",
       "Unai Simón                                     141.0               NaN   \n",
       "Unai Vencedor                                    NaN               NaN   \n",
       "Mikel Vesga                                      NaN               NaN   \n",
       "Asier Villalibre                                 NaN               NaN   \n",
       "Iñaki Williams                                   NaN               NaN   \n",
       "Yeray Álvarez                                    NaN               NaN   \n",
       "\n",
       "                        Own Goal Scored  Total Red Cards  Straight Red Cards  \\\n",
       "Aritz Aduriz                        NaN              NaN                 NaN   \n",
       "Mikel Balenziaga                    NaN              NaN                 NaN   \n",
       "Yuri Berchiche Izeta                NaN              NaN                 NaN   \n",
       "Ander Capa                          NaN              NaN                 NaN   \n",
       "Iñigo Córdoba                       NaN              NaN                 NaN   \n",
       "Óscar De Marcos                     NaN              NaN                 NaN   \n",
       "Beñat Etxebarria                    NaN              NaN                 NaN   \n",
       "Daniel García Carrillo              NaN              NaN                 NaN   \n",
       "Raúl García                         NaN              NaN                 NaN   \n",
       "Ibai Gómez                          NaN              NaN                 NaN   \n",
       "Iago Herrerín                       NaN              NaN                 NaN   \n",
       "Kenan Kodro                         NaN              NaN                 NaN   \n",
       "Gaizka Larrazabal                   NaN              NaN                 NaN   \n",
       "Íñigo Lekue                         NaN              NaN                 NaN   \n",
       "Unai López                          NaN              NaN                 NaN   \n",
       "Íñigo Martínez                      1.0              NaN                 NaN   \n",
       "Iker Muniain                        NaN              1.0                 1.0   \n",
       "Unai Núñez                          1.0              NaN                 NaN   \n",
       "Mikel San José                      NaN              NaN                 NaN   \n",
       "Oihan Sancet                        NaN              NaN                 NaN   \n",
       "Unai Simón                          NaN              1.0                 1.0   \n",
       "Unai Vencedor                       NaN              NaN                 NaN   \n",
       "Mikel Vesga                         NaN              NaN                 NaN   \n",
       "Asier Villalibre                    NaN              NaN                 NaN   \n",
       "Iñaki Williams                      NaN              NaN                 NaN   \n",
       "Yeray Álvarez                       NaN              NaN                 NaN   \n",
       "\n",
       "                        Goalkeeper Smother  Penalties Faced  \\\n",
       "Aritz Aduriz                           NaN              NaN   \n",
       "Mikel Balenziaga                       NaN              NaN   \n",
       "Yuri Berchiche Izeta                   NaN              NaN   \n",
       "Ander Capa                             NaN              NaN   \n",
       "Iñigo Córdoba                          NaN              NaN   \n",
       "Óscar De Marcos                        NaN              NaN   \n",
       "Beñat Etxebarria                       NaN              NaN   \n",
       "Daniel García Carrillo                 NaN              NaN   \n",
       "Raúl García                            NaN              NaN   \n",
       "Ibai Gómez                             NaN              NaN   \n",
       "Iago Herrerín                          NaN              NaN   \n",
       "Kenan Kodro                            NaN              NaN   \n",
       "Gaizka Larrazabal                      NaN              NaN   \n",
       "Íñigo Lekue                            NaN              NaN   \n",
       "Unai López                             NaN              NaN   \n",
       "Íñigo Martínez                         NaN              NaN   \n",
       "Iker Muniain                           NaN              NaN   \n",
       "Unai Núñez                             NaN              NaN   \n",
       "Mikel San José                         NaN              NaN   \n",
       "Oihan Sancet                           NaN              NaN   \n",
       "Unai Simón                             8.0              7.0   \n",
       "Unai Vencedor                          NaN              NaN   \n",
       "Mikel Vesga                            NaN              NaN   \n",
       "Asier Villalibre                       NaN              NaN   \n",
       "Iñaki Williams                         NaN              NaN   \n",
       "Yeray Álvarez                          NaN              NaN   \n",
       "\n",
       "                        Clearances Off the Line  \n",
       "Aritz Aduriz                                NaN  \n",
       "Mikel Balenziaga                            NaN  \n",
       "Yuri Berchiche Izeta                        NaN  \n",
       "Ander Capa                                  NaN  \n",
       "Iñigo Córdoba                               NaN  \n",
       "Óscar De Marcos                             NaN  \n",
       "Beñat Etxebarria                            NaN  \n",
       "Daniel García Carrillo                      NaN  \n",
       "Raúl García                                 NaN  \n",
       "Ibai Gómez                                  NaN  \n",
       "Iago Herrerín                               NaN  \n",
       "Kenan Kodro                                 NaN  \n",
       "Gaizka Larrazabal                           NaN  \n",
       "Íñigo Lekue                                 NaN  \n",
       "Unai López                                  NaN  \n",
       "Íñigo Martínez                              NaN  \n",
       "Iker Muniain                                NaN  \n",
       "Unai Núñez                                  NaN  \n",
       "Mikel San José                              NaN  \n",
       "Oihan Sancet                                NaN  \n",
       "Unai Simón                                  NaN  \n",
       "Unai Vencedor                               NaN  \n",
       "Mikel Vesga                                 NaN  \n",
       "Asier Villalibre                            NaN  \n",
       "Iñaki Williams                              NaN  \n",
       "Yeray Álvarez                               2.0  \n",
       "\n",
       "[26 rows x 112 columns]"
      ]
     },
     "execution_count": 7,
     "metadata": {},
     "output_type": "execute_result"
    }
   ],
   "source": [
    "players_stats"
   ]
  },
  {
   "cell_type": "code",
   "execution_count": 22,
   "id": "f7ffca21",
   "metadata": {},
   "outputs": [
    {
     "data": {
      "text/html": [
       "<div>\n",
       "<style scoped>\n",
       "    .dataframe tbody tr th:only-of-type {\n",
       "        vertical-align: middle;\n",
       "    }\n",
       "\n",
       "    .dataframe tbody tr th {\n",
       "        vertical-align: top;\n",
       "    }\n",
       "\n",
       "    .dataframe thead th {\n",
       "        text-align: right;\n",
       "    }\n",
       "</style>\n",
       "<table border=\"1\" class=\"dataframe\">\n",
       "  <thead>\n",
       "    <tr style=\"text-align: right;\">\n",
       "      <th></th>\n",
       "      <th>col_name</th>\n",
       "    </tr>\n",
       "  </thead>\n",
       "  <tbody>\n",
       "    <tr>\n",
       "      <th>53</th>\n",
       "      <td>Aerial Duels</td>\n",
       "    </tr>\n",
       "    <tr>\n",
       "      <th>12</th>\n",
       "      <td>Aerial Duels lost</td>\n",
       "    </tr>\n",
       "    <tr>\n",
       "      <th>40</th>\n",
       "      <td>Aerial Duels won</td>\n",
       "    </tr>\n",
       "    <tr>\n",
       "      <th>30</th>\n",
       "      <td>Appearances</td>\n",
       "    </tr>\n",
       "    <tr>\n",
       "      <th>85</th>\n",
       "      <td>Assists (Intentional)</td>\n",
       "    </tr>\n",
       "    <tr>\n",
       "      <th>82</th>\n",
       "      <td>Attempts from Set Pieces</td>\n",
       "    </tr>\n",
       "    <tr>\n",
       "      <th>7</th>\n",
       "      <td>Backward Passes</td>\n",
       "    </tr>\n",
       "    <tr>\n",
       "      <th>69</th>\n",
       "      <td>Blocked Shots</td>\n",
       "    </tr>\n",
       "    <tr>\n",
       "      <th>72</th>\n",
       "      <td>Blocks</td>\n",
       "    </tr>\n",
       "    <tr>\n",
       "      <th>99</th>\n",
       "      <td>Catches</td>\n",
       "    </tr>\n",
       "    <tr>\n",
       "      <th>86</th>\n",
       "      <td>Clean Sheets</td>\n",
       "    </tr>\n",
       "    <tr>\n",
       "      <th>111</th>\n",
       "      <td>Clearances Off the Line</td>\n",
       "    </tr>\n",
       "    <tr>\n",
       "      <th>80</th>\n",
       "      <td>Corners Taken (incl short corners)</td>\n",
       "    </tr>\n",
       "    <tr>\n",
       "      <th>6</th>\n",
       "      <td>Corners Won</td>\n",
       "    </tr>\n",
       "    <tr>\n",
       "      <th>98</th>\n",
       "      <td>Drops</td>\n",
       "    </tr>\n",
       "    <tr>\n",
       "      <th>42</th>\n",
       "      <td>Duels</td>\n",
       "    </tr>\n",
       "    <tr>\n",
       "      <th>56</th>\n",
       "      <td>Duels lost</td>\n",
       "    </tr>\n",
       "    <tr>\n",
       "      <th>36</th>\n",
       "      <td>Duels won</td>\n",
       "    </tr>\n",
       "    <tr>\n",
       "      <th>62</th>\n",
       "      <td>Fifty Fifty</td>\n",
       "    </tr>\n",
       "    <tr>\n",
       "      <th>33</th>\n",
       "      <td>Forward Passes</td>\n",
       "    </tr>\n",
       "    <tr>\n",
       "      <th>31</th>\n",
       "      <td>Foul Attempted Tackle</td>\n",
       "    </tr>\n",
       "    <tr>\n",
       "      <th>92</th>\n",
       "      <td>Foul Won Penalty</td>\n",
       "    </tr>\n",
       "    <tr>\n",
       "      <th>96</th>\n",
       "      <td>GK Successful Distribution</td>\n",
       "    </tr>\n",
       "    <tr>\n",
       "      <th>104</th>\n",
       "      <td>GK Unsuccessful Distribution</td>\n",
       "    </tr>\n",
       "    <tr>\n",
       "      <th>45</th>\n",
       "      <td>Games Played</td>\n",
       "    </tr>\n",
       "    <tr>\n",
       "      <th>87</th>\n",
       "      <td>Goal Assists</td>\n",
       "    </tr>\n",
       "    <tr>\n",
       "      <th>109</th>\n",
       "      <td>Goalkeeper Smother</td>\n",
       "    </tr>\n",
       "    <tr>\n",
       "      <th>3</th>\n",
       "      <td>Goals</td>\n",
       "    </tr>\n",
       "    <tr>\n",
       "      <th>44</th>\n",
       "      <td>Goals Conceded</td>\n",
       "    </tr>\n",
       "    <tr>\n",
       "      <th>21</th>\n",
       "      <td>Goals Conceded Inside Box</td>\n",
       "    </tr>\n",
       "    <tr>\n",
       "      <th>66</th>\n",
       "      <td>Goals Conceded Outside Box</td>\n",
       "    </tr>\n",
       "    <tr>\n",
       "      <th>49</th>\n",
       "      <td>Goals from Inside Box</td>\n",
       "    </tr>\n",
       "    <tr>\n",
       "      <th>81</th>\n",
       "      <td>Goals from Outside Box</td>\n",
       "    </tr>\n",
       "    <tr>\n",
       "      <th>32</th>\n",
       "      <td>Ground Duels</td>\n",
       "    </tr>\n",
       "    <tr>\n",
       "      <th>47</th>\n",
       "      <td>Ground Duels lost</td>\n",
       "    </tr>\n",
       "    <tr>\n",
       "      <th>58</th>\n",
       "      <td>Ground Duels won</td>\n",
       "    </tr>\n",
       "    <tr>\n",
       "      <th>84</th>\n",
       "      <td>Handballs conceded</td>\n",
       "    </tr>\n",
       "    <tr>\n",
       "      <th>93</th>\n",
       "      <td>Headed Goals</td>\n",
       "    </tr>\n",
       "    <tr>\n",
       "      <th>46</th>\n",
       "      <td>Hit Woodwork</td>\n",
       "    </tr>\n",
       "    <tr>\n",
       "      <th>35</th>\n",
       "      <td>Index</td>\n",
       "    </tr>\n",
       "    <tr>\n",
       "      <th>75</th>\n",
       "      <td>Interceptions</td>\n",
       "    </tr>\n",
       "    <tr>\n",
       "      <th>68</th>\n",
       "      <td>Key Passes (Attempt Assists)</td>\n",
       "    </tr>\n",
       "    <tr>\n",
       "      <th>89</th>\n",
       "      <td>Last Man Tackle</td>\n",
       "    </tr>\n",
       "    <tr>\n",
       "      <th>83</th>\n",
       "      <td>Left Foot Goals</td>\n",
       "    </tr>\n",
       "    <tr>\n",
       "      <th>48</th>\n",
       "      <td>Leftside Passes</td>\n",
       "    </tr>\n",
       "    <tr>\n",
       "      <th>76</th>\n",
       "      <td>Offsides</td>\n",
       "    </tr>\n",
       "    <tr>\n",
       "      <th>5</th>\n",
       "      <td>Open Play Passes</td>\n",
       "    </tr>\n",
       "    <tr>\n",
       "      <th>106</th>\n",
       "      <td>Own Goal Scored</td>\n",
       "    </tr>\n",
       "    <tr>\n",
       "      <th>77</th>\n",
       "      <td>Penalties Conceded</td>\n",
       "    </tr>\n",
       "    <tr>\n",
       "      <th>110</th>\n",
       "      <td>Penalties Faced</td>\n",
       "    </tr>\n",
       "    <tr>\n",
       "      <th>50</th>\n",
       "      <td>Penalties Taken</td>\n",
       "    </tr>\n",
       "    <tr>\n",
       "      <th>94</th>\n",
       "      <td>Penalty Goals</td>\n",
       "    </tr>\n",
       "    <tr>\n",
       "      <th>78</th>\n",
       "      <td>Penalty Goals Conceded</td>\n",
       "    </tr>\n",
       "    <tr>\n",
       "      <th>97</th>\n",
       "      <td>Punches</td>\n",
       "    </tr>\n",
       "    <tr>\n",
       "      <th>27</th>\n",
       "      <td>PutThrough/Blocked Distribution</td>\n",
       "    </tr>\n",
       "    <tr>\n",
       "      <th>65</th>\n",
       "      <td>PutThrough/Blocked Distribution Won</td>\n",
       "    </tr>\n",
       "    <tr>\n",
       "      <th>26</th>\n",
       "      <td>Recoveries</td>\n",
       "    </tr>\n",
       "    <tr>\n",
       "      <th>4</th>\n",
       "      <td>Right Foot Goals</td>\n",
       "    </tr>\n",
       "    <tr>\n",
       "      <th>24</th>\n",
       "      <td>Rightside Passes</td>\n",
       "    </tr>\n",
       "    <tr>\n",
       "      <th>95</th>\n",
       "      <td>Saves Made</td>\n",
       "    </tr>\n",
       "    <tr>\n",
       "      <th>102</th>\n",
       "      <td>Saves Made from Inside Box</td>\n",
       "    </tr>\n",
       "    <tr>\n",
       "      <th>100</th>\n",
       "      <td>Saves Made from Outside Box</td>\n",
       "    </tr>\n",
       "    <tr>\n",
       "      <th>103</th>\n",
       "      <td>Saves made - caught</td>\n",
       "    </tr>\n",
       "    <tr>\n",
       "      <th>101</th>\n",
       "      <td>Saves made - parried</td>\n",
       "    </tr>\n",
       "    <tr>\n",
       "      <th>105</th>\n",
       "      <td>Set Pieces Goals</td>\n",
       "    </tr>\n",
       "    <tr>\n",
       "      <th>11</th>\n",
       "      <td>Shots Off Target (inc woodwork)</td>\n",
       "    </tr>\n",
       "    <tr>\n",
       "      <th>37</th>\n",
       "      <td>Shots On Target ( inc goals )</td>\n",
       "    </tr>\n",
       "    <tr>\n",
       "      <th>71</th>\n",
       "      <td>Starts</td>\n",
       "    </tr>\n",
       "    <tr>\n",
       "      <th>108</th>\n",
       "      <td>Straight Red Cards</td>\n",
       "    </tr>\n",
       "    <tr>\n",
       "      <th>67</th>\n",
       "      <td>Substitute Off</td>\n",
       "    </tr>\n",
       "    <tr>\n",
       "      <th>1</th>\n",
       "      <td>Substitute On</td>\n",
       "    </tr>\n",
       "    <tr>\n",
       "      <th>90</th>\n",
       "      <td>Successful Corners into Box</td>\n",
       "    </tr>\n",
       "    <tr>\n",
       "      <th>63</th>\n",
       "      <td>Successful Crosses &amp; Corners</td>\n",
       "    </tr>\n",
       "    <tr>\n",
       "      <th>73</th>\n",
       "      <td>Successful Crosses open play</td>\n",
       "    </tr>\n",
       "    <tr>\n",
       "      <th>19</th>\n",
       "      <td>Successful Dribbles</td>\n",
       "    </tr>\n",
       "    <tr>\n",
       "      <th>79</th>\n",
       "      <td>Successful Fifty Fifty</td>\n",
       "    </tr>\n",
       "    <tr>\n",
       "      <th>61</th>\n",
       "      <td>Successful Launches</td>\n",
       "    </tr>\n",
       "    <tr>\n",
       "      <th>2</th>\n",
       "      <td>Successful Lay-offs</td>\n",
       "    </tr>\n",
       "    <tr>\n",
       "      <th>38</th>\n",
       "      <td>Successful Long Passes</td>\n",
       "    </tr>\n",
       "    <tr>\n",
       "      <th>51</th>\n",
       "      <td>Successful Open Play Passes</td>\n",
       "    </tr>\n",
       "    <tr>\n",
       "      <th>8</th>\n",
       "      <td>Successful Passes Opposition Half</td>\n",
       "    </tr>\n",
       "    <tr>\n",
       "      <th>14</th>\n",
       "      <td>Successful Passes Own Half</td>\n",
       "    </tr>\n",
       "    <tr>\n",
       "      <th>20</th>\n",
       "      <td>Successful Short Passes</td>\n",
       "    </tr>\n",
       "    <tr>\n",
       "      <th>57</th>\n",
       "      <td>Tackles Lost</td>\n",
       "    </tr>\n",
       "    <tr>\n",
       "      <th>55</th>\n",
       "      <td>Tackles Won</td>\n",
       "    </tr>\n",
       "    <tr>\n",
       "      <th>88</th>\n",
       "      <td>Through balls</td>\n",
       "    </tr>\n",
       "    <tr>\n",
       "      <th>70</th>\n",
       "      <td>Throw Ins to Opposition Player</td>\n",
       "    </tr>\n",
       "    <tr>\n",
       "      <th>60</th>\n",
       "      <td>Throw Ins to Own Player</td>\n",
       "    </tr>\n",
       "    <tr>\n",
       "      <th>0</th>\n",
       "      <td>Time Played</td>\n",
       "    </tr>\n",
       "    <tr>\n",
       "      <th>43</th>\n",
       "      <td>Total Clearances</td>\n",
       "    </tr>\n",
       "    <tr>\n",
       "      <th>18</th>\n",
       "      <td>Total Fouls Conceded</td>\n",
       "    </tr>\n",
       "    <tr>\n",
       "      <th>39</th>\n",
       "      <td>Total Fouls Won</td>\n",
       "    </tr>\n",
       "    <tr>\n",
       "      <th>13</th>\n",
       "      <td>Total Losses Of Possession</td>\n",
       "    </tr>\n",
       "    <tr>\n",
       "      <th>17</th>\n",
       "      <td>Total Passes</td>\n",
       "    </tr>\n",
       "    <tr>\n",
       "      <th>107</th>\n",
       "      <td>Total Red Cards</td>\n",
       "    </tr>\n",
       "    <tr>\n",
       "      <th>22</th>\n",
       "      <td>Total Shots</td>\n",
       "    </tr>\n",
       "    <tr>\n",
       "      <th>52</th>\n",
       "      <td>Total Successful Passes ( Excl Crosses &amp; Corne...</td>\n",
       "    </tr>\n",
       "    <tr>\n",
       "      <th>15</th>\n",
       "      <td>Total Tackles</td>\n",
       "    </tr>\n",
       "    <tr>\n",
       "      <th>34</th>\n",
       "      <td>Total Touches In Opposition Box</td>\n",
       "    </tr>\n",
       "    <tr>\n",
       "      <th>23</th>\n",
       "      <td>Total Unsuccessful Passes ( Excl Crosses &amp; Cor...</td>\n",
       "    </tr>\n",
       "    <tr>\n",
       "      <th>29</th>\n",
       "      <td>Touches</td>\n",
       "    </tr>\n",
       "    <tr>\n",
       "      <th>91</th>\n",
       "      <td>Unsuccessful Corners into Box</td>\n",
       "    </tr>\n",
       "    <tr>\n",
       "      <th>74</th>\n",
       "      <td>Unsuccessful Crosses &amp; Corners</td>\n",
       "    </tr>\n",
       "    <tr>\n",
       "      <th>59</th>\n",
       "      <td>Unsuccessful Crosses open play</td>\n",
       "    </tr>\n",
       "    <tr>\n",
       "      <th>41</th>\n",
       "      <td>Unsuccessful Dribbles</td>\n",
       "    </tr>\n",
       "    <tr>\n",
       "      <th>64</th>\n",
       "      <td>Unsuccessful Launches</td>\n",
       "    </tr>\n",
       "    <tr>\n",
       "      <th>10</th>\n",
       "      <td>Unsuccessful Long Passes</td>\n",
       "    </tr>\n",
       "    <tr>\n",
       "      <th>25</th>\n",
       "      <td>Unsuccessful Passes Opposition Half</td>\n",
       "    </tr>\n",
       "    <tr>\n",
       "      <th>28</th>\n",
       "      <td>Unsuccessful Passes Own Half</td>\n",
       "    </tr>\n",
       "    <tr>\n",
       "      <th>16</th>\n",
       "      <td>Unsuccessful Short Passes</td>\n",
       "    </tr>\n",
       "    <tr>\n",
       "      <th>54</th>\n",
       "      <td>Unsuccessful lay-offs</td>\n",
       "    </tr>\n",
       "    <tr>\n",
       "      <th>9</th>\n",
       "      <td>Yellow Cards</td>\n",
       "    </tr>\n",
       "  </tbody>\n",
       "</table>\n",
       "</div>"
      ],
      "text/plain": [
       "                                              col_name\n",
       "53                                        Aerial Duels\n",
       "12                                   Aerial Duels lost\n",
       "40                                    Aerial Duels won\n",
       "30                                         Appearances\n",
       "85                               Assists (Intentional)\n",
       "82                            Attempts from Set Pieces\n",
       "7                                      Backward Passes\n",
       "69                                       Blocked Shots\n",
       "72                                              Blocks\n",
       "99                                             Catches\n",
       "86                                        Clean Sheets\n",
       "111                            Clearances Off the Line\n",
       "80                  Corners Taken (incl short corners)\n",
       "6                                          Corners Won\n",
       "98                                               Drops\n",
       "42                                               Duels\n",
       "56                                          Duels lost\n",
       "36                                           Duels won\n",
       "62                                         Fifty Fifty\n",
       "33                                      Forward Passes\n",
       "31                               Foul Attempted Tackle\n",
       "92                                    Foul Won Penalty\n",
       "96                          GK Successful Distribution\n",
       "104                       GK Unsuccessful Distribution\n",
       "45                                        Games Played\n",
       "87                                        Goal Assists\n",
       "109                                 Goalkeeper Smother\n",
       "3                                                Goals\n",
       "44                                      Goals Conceded\n",
       "21                           Goals Conceded Inside Box\n",
       "66                          Goals Conceded Outside Box\n",
       "49                               Goals from Inside Box\n",
       "81                              Goals from Outside Box\n",
       "32                                        Ground Duels\n",
       "47                                   Ground Duels lost\n",
       "58                                    Ground Duels won\n",
       "84                                  Handballs conceded\n",
       "93                                        Headed Goals\n",
       "46                                        Hit Woodwork\n",
       "35                                               Index\n",
       "75                                       Interceptions\n",
       "68                        Key Passes (Attempt Assists)\n",
       "89                                     Last Man Tackle\n",
       "83                                     Left Foot Goals\n",
       "48                                     Leftside Passes\n",
       "76                                            Offsides\n",
       "5                                     Open Play Passes\n",
       "106                                    Own Goal Scored\n",
       "77                                  Penalties Conceded\n",
       "110                                    Penalties Faced\n",
       "50                                     Penalties Taken\n",
       "94                                       Penalty Goals\n",
       "78                              Penalty Goals Conceded\n",
       "97                                             Punches\n",
       "27                     PutThrough/Blocked Distribution\n",
       "65                 PutThrough/Blocked Distribution Won\n",
       "26                                          Recoveries\n",
       "4                                     Right Foot Goals\n",
       "24                                    Rightside Passes\n",
       "95                                          Saves Made\n",
       "102                         Saves Made from Inside Box\n",
       "100                        Saves Made from Outside Box\n",
       "103                                Saves made - caught\n",
       "101                               Saves made - parried\n",
       "105                                   Set Pieces Goals\n",
       "11                     Shots Off Target (inc woodwork)\n",
       "37                       Shots On Target ( inc goals )\n",
       "71                                              Starts\n",
       "108                                 Straight Red Cards\n",
       "67                                      Substitute Off\n",
       "1                                        Substitute On\n",
       "90                         Successful Corners into Box\n",
       "63                        Successful Crosses & Corners\n",
       "73                        Successful Crosses open play\n",
       "19                                 Successful Dribbles\n",
       "79                              Successful Fifty Fifty\n",
       "61                                 Successful Launches\n",
       "2                                  Successful Lay-offs\n",
       "38                              Successful Long Passes\n",
       "51                         Successful Open Play Passes\n",
       "8                    Successful Passes Opposition Half\n",
       "14                          Successful Passes Own Half\n",
       "20                             Successful Short Passes\n",
       "57                                        Tackles Lost\n",
       "55                                         Tackles Won\n",
       "88                                       Through balls\n",
       "70                      Throw Ins to Opposition Player\n",
       "60                             Throw Ins to Own Player\n",
       "0                                          Time Played\n",
       "43                                    Total Clearances\n",
       "18                                Total Fouls Conceded\n",
       "39                                     Total Fouls Won\n",
       "13                          Total Losses Of Possession\n",
       "17                                        Total Passes\n",
       "107                                    Total Red Cards\n",
       "22                                         Total Shots\n",
       "52   Total Successful Passes ( Excl Crosses & Corne...\n",
       "15                                       Total Tackles\n",
       "34                     Total Touches In Opposition Box\n",
       "23   Total Unsuccessful Passes ( Excl Crosses & Cor...\n",
       "29                                             Touches\n",
       "91                       Unsuccessful Corners into Box\n",
       "74                      Unsuccessful Crosses & Corners\n",
       "59                      Unsuccessful Crosses open play\n",
       "41                               Unsuccessful Dribbles\n",
       "64                               Unsuccessful Launches\n",
       "10                            Unsuccessful Long Passes\n",
       "25                 Unsuccessful Passes Opposition Half\n",
       "28                        Unsuccessful Passes Own Half\n",
       "16                           Unsuccessful Short Passes\n",
       "54                               Unsuccessful lay-offs\n",
       "9                                         Yellow Cards"
      ]
     },
     "execution_count": 22,
     "metadata": {},
     "output_type": "execute_result"
    }
   ],
   "source": [
    "pd.set_option('display.max_rows', 500)\n",
    "col_test=pd.DataFrame(players_stats.columns.tolist(),columns=[\"col_name\"])\n",
    "col_test.sort_values(by=\"col_name\")\n",
    "## Goals, 'Total Passes', 'Successful Dribbles', 'Total Shots'"
   ]
  },
  {
   "cell_type": "code",
   "execution_count": 48,
   "id": "0fa9355a",
   "metadata": {},
   "outputs": [],
   "source": [
    "\n",
    "def compare_players(df, players, stats, color_player_1, color_player_2):\n",
    "\n",
    "  '''\n",
    "  Function that returns a spider-plot comparing two players in the stats we select.\n",
    "  We decide to normalize dataframe columns so that the comparison is clear\n",
    "  '''\n",
    "\n",
    "  df=df[stats]\n",
    "  scaler = MinMaxScaler()\n",
    "  df_normalized = pd.DataFrame(scaler.fit_transform(df), columns=df.columns, index=df.index)\n",
    "\n",
    "\n",
    "  df1=df_normalized.loc[players[0],stats]\n",
    "  df2=df_normalized.loc[players[1],stats]\n",
    "\n",
    "  categories=stats\n",
    "  fig = go.Figure()\n",
    "\n",
    "  fig.add_trace(go.Scatterpolar(\n",
    "        r=df1.tolist(),\n",
    "        theta=categories,\n",
    "        fill='toself',\n",
    "        marker_color=color_player_1,\n",
    "        marker_line_color=color_player_1,\n",
    "        opacity=0.5,\n",
    "        name=players[0]\n",
    "  ))\n",
    "  fig.add_trace(go.Scatterpolar(\n",
    "        r=df2.tolist(),\n",
    "        theta=categories,\n",
    "        marker_color=color_player_2,\n",
    "        marker_line_color=color_player_2,\n",
    "        fill='toself',\n",
    "        opacity=0.5,\n",
    "        name=players[1]\n",
    "  ))\n",
    "\n",
    "  fig.update_layout(\n",
    "    polar=dict(\n",
    "      radialaxis=dict(\n",
    "        visible=True\n",
    "      )),\n",
    "    # showlegend=False\n",
    "  )\n",
    "\n",
    "  fig.show()"
   ]
  },
  {
   "cell_type": "code",
   "execution_count": 49,
   "id": "796b4dea",
   "metadata": {},
   "outputs": [
    {
     "data": {
      "application/vnd.plotly.v1+json": {
       "config": {
        "plotlyServerURL": "https://plot.ly"
       },
       "data": [
        {
         "fill": "toself",
         "marker": {
          "color": "red",
          "line": {
           "color": "red"
          }
         },
         "name": "Yuri Berchiche Izeta",
         "opacity": 0.5,
         "r": [
          0.07142857142857142,
          0.8425675675675677,
          0.7636363636363636,
          0.28378378378378377
         ],
         "theta": [
          "Goals",
          "Total Passes",
          "Successful Dribbles",
          "Total Shots"
         ],
         "type": "scatterpolar"
        },
        {
         "fill": "toself",
         "marker": {
          "color": "green",
          "line": {
           "color": "green"
          }
         },
         "name": "Ander Capa",
         "opacity": 0.5,
         "r": [
          0.14285714285714285,
          0.7500000000000001,
          0.9999999999999999,
          0.12162162162162163
         ],
         "theta": [
          "Goals",
          "Total Passes",
          "Successful Dribbles",
          "Total Shots"
         ],
         "type": "scatterpolar"
        }
       ],
       "layout": {
        "polar": {
         "radialaxis": {
          "visible": true
         }
        },
        "template": {
         "data": {
          "bar": [
           {
            "error_x": {
             "color": "#2a3f5f"
            },
            "error_y": {
             "color": "#2a3f5f"
            },
            "marker": {
             "line": {
              "color": "#E5ECF6",
              "width": 0.5
             },
             "pattern": {
              "fillmode": "overlay",
              "size": 10,
              "solidity": 0.2
             }
            },
            "type": "bar"
           }
          ],
          "barpolar": [
           {
            "marker": {
             "line": {
              "color": "#E5ECF6",
              "width": 0.5
             },
             "pattern": {
              "fillmode": "overlay",
              "size": 10,
              "solidity": 0.2
             }
            },
            "type": "barpolar"
           }
          ],
          "carpet": [
           {
            "aaxis": {
             "endlinecolor": "#2a3f5f",
             "gridcolor": "white",
             "linecolor": "white",
             "minorgridcolor": "white",
             "startlinecolor": "#2a3f5f"
            },
            "baxis": {
             "endlinecolor": "#2a3f5f",
             "gridcolor": "white",
             "linecolor": "white",
             "minorgridcolor": "white",
             "startlinecolor": "#2a3f5f"
            },
            "type": "carpet"
           }
          ],
          "choropleth": [
           {
            "colorbar": {
             "outlinewidth": 0,
             "ticks": ""
            },
            "type": "choropleth"
           }
          ],
          "contour": [
           {
            "colorbar": {
             "outlinewidth": 0,
             "ticks": ""
            },
            "colorscale": [
             [
              0,
              "#0d0887"
             ],
             [
              0.1111111111111111,
              "#46039f"
             ],
             [
              0.2222222222222222,
              "#7201a8"
             ],
             [
              0.3333333333333333,
              "#9c179e"
             ],
             [
              0.4444444444444444,
              "#bd3786"
             ],
             [
              0.5555555555555556,
              "#d8576b"
             ],
             [
              0.6666666666666666,
              "#ed7953"
             ],
             [
              0.7777777777777778,
              "#fb9f3a"
             ],
             [
              0.8888888888888888,
              "#fdca26"
             ],
             [
              1,
              "#f0f921"
             ]
            ],
            "type": "contour"
           }
          ],
          "contourcarpet": [
           {
            "colorbar": {
             "outlinewidth": 0,
             "ticks": ""
            },
            "type": "contourcarpet"
           }
          ],
          "heatmap": [
           {
            "colorbar": {
             "outlinewidth": 0,
             "ticks": ""
            },
            "colorscale": [
             [
              0,
              "#0d0887"
             ],
             [
              0.1111111111111111,
              "#46039f"
             ],
             [
              0.2222222222222222,
              "#7201a8"
             ],
             [
              0.3333333333333333,
              "#9c179e"
             ],
             [
              0.4444444444444444,
              "#bd3786"
             ],
             [
              0.5555555555555556,
              "#d8576b"
             ],
             [
              0.6666666666666666,
              "#ed7953"
             ],
             [
              0.7777777777777778,
              "#fb9f3a"
             ],
             [
              0.8888888888888888,
              "#fdca26"
             ],
             [
              1,
              "#f0f921"
             ]
            ],
            "type": "heatmap"
           }
          ],
          "histogram": [
           {
            "marker": {
             "pattern": {
              "fillmode": "overlay",
              "size": 10,
              "solidity": 0.2
             }
            },
            "type": "histogram"
           }
          ],
          "histogram2d": [
           {
            "colorbar": {
             "outlinewidth": 0,
             "ticks": ""
            },
            "colorscale": [
             [
              0,
              "#0d0887"
             ],
             [
              0.1111111111111111,
              "#46039f"
             ],
             [
              0.2222222222222222,
              "#7201a8"
             ],
             [
              0.3333333333333333,
              "#9c179e"
             ],
             [
              0.4444444444444444,
              "#bd3786"
             ],
             [
              0.5555555555555556,
              "#d8576b"
             ],
             [
              0.6666666666666666,
              "#ed7953"
             ],
             [
              0.7777777777777778,
              "#fb9f3a"
             ],
             [
              0.8888888888888888,
              "#fdca26"
             ],
             [
              1,
              "#f0f921"
             ]
            ],
            "type": "histogram2d"
           }
          ],
          "histogram2dcontour": [
           {
            "colorbar": {
             "outlinewidth": 0,
             "ticks": ""
            },
            "colorscale": [
             [
              0,
              "#0d0887"
             ],
             [
              0.1111111111111111,
              "#46039f"
             ],
             [
              0.2222222222222222,
              "#7201a8"
             ],
             [
              0.3333333333333333,
              "#9c179e"
             ],
             [
              0.4444444444444444,
              "#bd3786"
             ],
             [
              0.5555555555555556,
              "#d8576b"
             ],
             [
              0.6666666666666666,
              "#ed7953"
             ],
             [
              0.7777777777777778,
              "#fb9f3a"
             ],
             [
              0.8888888888888888,
              "#fdca26"
             ],
             [
              1,
              "#f0f921"
             ]
            ],
            "type": "histogram2dcontour"
           }
          ],
          "mesh3d": [
           {
            "colorbar": {
             "outlinewidth": 0,
             "ticks": ""
            },
            "type": "mesh3d"
           }
          ],
          "parcoords": [
           {
            "line": {
             "colorbar": {
              "outlinewidth": 0,
              "ticks": ""
             }
            },
            "type": "parcoords"
           }
          ],
          "pie": [
           {
            "automargin": true,
            "type": "pie"
           }
          ],
          "scatter": [
           {
            "fillpattern": {
             "fillmode": "overlay",
             "size": 10,
             "solidity": 0.2
            },
            "type": "scatter"
           }
          ],
          "scatter3d": [
           {
            "line": {
             "colorbar": {
              "outlinewidth": 0,
              "ticks": ""
             }
            },
            "marker": {
             "colorbar": {
              "outlinewidth": 0,
              "ticks": ""
             }
            },
            "type": "scatter3d"
           }
          ],
          "scattercarpet": [
           {
            "marker": {
             "colorbar": {
              "outlinewidth": 0,
              "ticks": ""
             }
            },
            "type": "scattercarpet"
           }
          ],
          "scattergeo": [
           {
            "marker": {
             "colorbar": {
              "outlinewidth": 0,
              "ticks": ""
             }
            },
            "type": "scattergeo"
           }
          ],
          "scattergl": [
           {
            "marker": {
             "colorbar": {
              "outlinewidth": 0,
              "ticks": ""
             }
            },
            "type": "scattergl"
           }
          ],
          "scattermap": [
           {
            "marker": {
             "colorbar": {
              "outlinewidth": 0,
              "ticks": ""
             }
            },
            "type": "scattermap"
           }
          ],
          "scattermapbox": [
           {
            "marker": {
             "colorbar": {
              "outlinewidth": 0,
              "ticks": ""
             }
            },
            "type": "scattermapbox"
           }
          ],
          "scatterpolar": [
           {
            "marker": {
             "colorbar": {
              "outlinewidth": 0,
              "ticks": ""
             }
            },
            "type": "scatterpolar"
           }
          ],
          "scatterpolargl": [
           {
            "marker": {
             "colorbar": {
              "outlinewidth": 0,
              "ticks": ""
             }
            },
            "type": "scatterpolargl"
           }
          ],
          "scatterternary": [
           {
            "marker": {
             "colorbar": {
              "outlinewidth": 0,
              "ticks": ""
             }
            },
            "type": "scatterternary"
           }
          ],
          "surface": [
           {
            "colorbar": {
             "outlinewidth": 0,
             "ticks": ""
            },
            "colorscale": [
             [
              0,
              "#0d0887"
             ],
             [
              0.1111111111111111,
              "#46039f"
             ],
             [
              0.2222222222222222,
              "#7201a8"
             ],
             [
              0.3333333333333333,
              "#9c179e"
             ],
             [
              0.4444444444444444,
              "#bd3786"
             ],
             [
              0.5555555555555556,
              "#d8576b"
             ],
             [
              0.6666666666666666,
              "#ed7953"
             ],
             [
              0.7777777777777778,
              "#fb9f3a"
             ],
             [
              0.8888888888888888,
              "#fdca26"
             ],
             [
              1,
              "#f0f921"
             ]
            ],
            "type": "surface"
           }
          ],
          "table": [
           {
            "cells": {
             "fill": {
              "color": "#EBF0F8"
             },
             "line": {
              "color": "white"
             }
            },
            "header": {
             "fill": {
              "color": "#C8D4E3"
             },
             "line": {
              "color": "white"
             }
            },
            "type": "table"
           }
          ]
         },
         "layout": {
          "annotationdefaults": {
           "arrowcolor": "#2a3f5f",
           "arrowhead": 0,
           "arrowwidth": 1
          },
          "autotypenumbers": "strict",
          "coloraxis": {
           "colorbar": {
            "outlinewidth": 0,
            "ticks": ""
           }
          },
          "colorscale": {
           "diverging": [
            [
             0,
             "#8e0152"
            ],
            [
             0.1,
             "#c51b7d"
            ],
            [
             0.2,
             "#de77ae"
            ],
            [
             0.3,
             "#f1b6da"
            ],
            [
             0.4,
             "#fde0ef"
            ],
            [
             0.5,
             "#f7f7f7"
            ],
            [
             0.6,
             "#e6f5d0"
            ],
            [
             0.7,
             "#b8e186"
            ],
            [
             0.8,
             "#7fbc41"
            ],
            [
             0.9,
             "#4d9221"
            ],
            [
             1,
             "#276419"
            ]
           ],
           "sequential": [
            [
             0,
             "#0d0887"
            ],
            [
             0.1111111111111111,
             "#46039f"
            ],
            [
             0.2222222222222222,
             "#7201a8"
            ],
            [
             0.3333333333333333,
             "#9c179e"
            ],
            [
             0.4444444444444444,
             "#bd3786"
            ],
            [
             0.5555555555555556,
             "#d8576b"
            ],
            [
             0.6666666666666666,
             "#ed7953"
            ],
            [
             0.7777777777777778,
             "#fb9f3a"
            ],
            [
             0.8888888888888888,
             "#fdca26"
            ],
            [
             1,
             "#f0f921"
            ]
           ],
           "sequentialminus": [
            [
             0,
             "#0d0887"
            ],
            [
             0.1111111111111111,
             "#46039f"
            ],
            [
             0.2222222222222222,
             "#7201a8"
            ],
            [
             0.3333333333333333,
             "#9c179e"
            ],
            [
             0.4444444444444444,
             "#bd3786"
            ],
            [
             0.5555555555555556,
             "#d8576b"
            ],
            [
             0.6666666666666666,
             "#ed7953"
            ],
            [
             0.7777777777777778,
             "#fb9f3a"
            ],
            [
             0.8888888888888888,
             "#fdca26"
            ],
            [
             1,
             "#f0f921"
            ]
           ]
          },
          "colorway": [
           "#636efa",
           "#EF553B",
           "#00cc96",
           "#ab63fa",
           "#FFA15A",
           "#19d3f3",
           "#FF6692",
           "#B6E880",
           "#FF97FF",
           "#FECB52"
          ],
          "font": {
           "color": "#2a3f5f"
          },
          "geo": {
           "bgcolor": "white",
           "lakecolor": "white",
           "landcolor": "#E5ECF6",
           "showlakes": true,
           "showland": true,
           "subunitcolor": "white"
          },
          "hoverlabel": {
           "align": "left"
          },
          "hovermode": "closest",
          "mapbox": {
           "style": "light"
          },
          "paper_bgcolor": "white",
          "plot_bgcolor": "#E5ECF6",
          "polar": {
           "angularaxis": {
            "gridcolor": "white",
            "linecolor": "white",
            "ticks": ""
           },
           "bgcolor": "#E5ECF6",
           "radialaxis": {
            "gridcolor": "white",
            "linecolor": "white",
            "ticks": ""
           }
          },
          "scene": {
           "xaxis": {
            "backgroundcolor": "#E5ECF6",
            "gridcolor": "white",
            "gridwidth": 2,
            "linecolor": "white",
            "showbackground": true,
            "ticks": "",
            "zerolinecolor": "white"
           },
           "yaxis": {
            "backgroundcolor": "#E5ECF6",
            "gridcolor": "white",
            "gridwidth": 2,
            "linecolor": "white",
            "showbackground": true,
            "ticks": "",
            "zerolinecolor": "white"
           },
           "zaxis": {
            "backgroundcolor": "#E5ECF6",
            "gridcolor": "white",
            "gridwidth": 2,
            "linecolor": "white",
            "showbackground": true,
            "ticks": "",
            "zerolinecolor": "white"
           }
          },
          "shapedefaults": {
           "line": {
            "color": "#2a3f5f"
           }
          },
          "ternary": {
           "aaxis": {
            "gridcolor": "white",
            "linecolor": "white",
            "ticks": ""
           },
           "baxis": {
            "gridcolor": "white",
            "linecolor": "white",
            "ticks": ""
           },
           "bgcolor": "#E5ECF6",
           "caxis": {
            "gridcolor": "white",
            "linecolor": "white",
            "ticks": ""
           }
          },
          "title": {
           "x": 0.05
          },
          "xaxis": {
           "automargin": true,
           "gridcolor": "white",
           "linecolor": "white",
           "ticks": "",
           "title": {
            "standoff": 15
           },
           "zerolinecolor": "white",
           "zerolinewidth": 2
          },
          "yaxis": {
           "automargin": true,
           "gridcolor": "white",
           "linecolor": "white",
           "ticks": "",
           "title": {
            "standoff": 15
           },
           "zerolinecolor": "white",
           "zerolinewidth": 2
          }
         }
        }
       }
      }
     },
     "metadata": {},
     "output_type": "display_data"
    }
   ],
   "source": [
    "compare_players(players_stats,[\"Yuri Berchiche Izeta\",\"Ander Capa\"] ,[\"Goals\", 'Total Passes', 'Successful Dribbles', 'Total Shots'],\"red\",\"green\")"
   ]
  }
 ],
 "metadata": {
  "kernelspec": {
   "display_name": "Python 3",
   "language": "python",
   "name": "python3"
  },
  "language_info": {
   "codemirror_mode": {
    "name": "ipython",
    "version": 3
   },
   "file_extension": ".py",
   "mimetype": "text/x-python",
   "name": "python",
   "nbconvert_exporter": "python",
   "pygments_lexer": "ipython3",
   "version": "3.9.2"
  }
 },
 "nbformat": 4,
 "nbformat_minor": 5
}
