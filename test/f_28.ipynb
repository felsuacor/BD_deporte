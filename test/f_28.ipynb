{
 "cells": [
  {
   "cell_type": "code",
   "execution_count": 4,
   "id": "9e57022f",
   "metadata": {},
   "outputs": [],
   "source": [
    "import xml.etree.ElementTree as ET\n",
    "import pandas as pd\n"
   ]
  },
  {
   "cell_type": "code",
   "execution_count": 5,
   "id": "0ccb7783",
   "metadata": {},
   "outputs": [],
   "source": [
    "file=ET.parse('C:/Users/Felix/Desktop/Máster  BD Deporte/Módulo 7 - Proveedores de Datos Deportivos/f28/f28-23-2019-1074825-eventdetails.xml')"
   ]
  },
  {
   "cell_type": "code",
   "execution_count": 27,
   "id": "3cef14a3",
   "metadata": {},
   "outputs": [],
   "source": [
    "interval_poss = {}\n",
    "\n",
    "root = file.getroot()\n",
    "\n",
    "away_team = root.attrib.get(\"away_team_name\")\n",
    "home_team = root.attrib.get(\"home_team_name\")\n",
    "\n",
    "for possession_wave in root.findall(\".//PossessionWave[@Type='BallPossession']\"):\n",
    "    for interval_length in possession_wave.findall(\".//IntervalLength[@Type='5']\"):\n",
    "        for interval in interval_length.findall(\"Interval\"):\n",
    "            # Create a new team_poss dictionary for each interval\n",
    "            team_poss = {\n",
    "                away_team: float(interval.find('Away').text),\n",
    "                home_team: float(interval.find('Home').text)\n",
    "            }\n",
    "            interval_type = interval.attrib.get(\"Type\")\n",
    "            interval_poss[interval_type] = team_poss\n",
    "\n"
   ]
  },
  {
   "cell_type": "code",
   "execution_count": 31,
   "id": "e8d80f45",
   "metadata": {},
   "outputs": [
    {
     "data": {
      "text/html": [
       "<div>\n",
       "<style scoped>\n",
       "    .dataframe tbody tr th:only-of-type {\n",
       "        vertical-align: middle;\n",
       "    }\n",
       "\n",
       "    .dataframe tbody tr th {\n",
       "        vertical-align: top;\n",
       "    }\n",
       "\n",
       "    .dataframe thead th {\n",
       "        text-align: right;\n",
       "    }\n",
       "</style>\n",
       "<table border=\"1\" class=\"dataframe\">\n",
       "  <thead>\n",
       "    <tr style=\"text-align: right;\">\n",
       "      <th></th>\n",
       "      <th>0-5</th>\n",
       "      <th>6-10</th>\n",
       "      <th>11-15</th>\n",
       "      <th>16-20</th>\n",
       "      <th>21-25</th>\n",
       "      <th>26-30</th>\n",
       "      <th>31-35</th>\n",
       "      <th>36-40</th>\n",
       "      <th>41-45</th>\n",
       "      <th>46-50</th>\n",
       "      <th>51-55</th>\n",
       "      <th>56-60</th>\n",
       "      <th>61-65</th>\n",
       "      <th>66-70</th>\n",
       "      <th>71-75</th>\n",
       "      <th>76-80</th>\n",
       "      <th>81-85</th>\n",
       "      <th>86-90</th>\n",
       "    </tr>\n",
       "  </thead>\n",
       "  <tbody>\n",
       "    <tr>\n",
       "      <th>Espanyol</th>\n",
       "      <td>74.5</td>\n",
       "      <td>51.5</td>\n",
       "      <td>83.1</td>\n",
       "      <td>48.1</td>\n",
       "      <td>34.6</td>\n",
       "      <td>76.6</td>\n",
       "      <td>64.3</td>\n",
       "      <td>33.9</td>\n",
       "      <td>84.8</td>\n",
       "      <td>69.6</td>\n",
       "      <td>79.7</td>\n",
       "      <td>31.7</td>\n",
       "      <td>75.0</td>\n",
       "      <td>53.4</td>\n",
       "      <td>80.0</td>\n",
       "      <td>59.6</td>\n",
       "      <td>80.0</td>\n",
       "      <td>61.4</td>\n",
       "    </tr>\n",
       "    <tr>\n",
       "      <th>Alavés</th>\n",
       "      <td>25.5</td>\n",
       "      <td>48.5</td>\n",
       "      <td>16.9</td>\n",
       "      <td>51.9</td>\n",
       "      <td>65.4</td>\n",
       "      <td>23.4</td>\n",
       "      <td>35.7</td>\n",
       "      <td>66.1</td>\n",
       "      <td>15.2</td>\n",
       "      <td>30.4</td>\n",
       "      <td>20.3</td>\n",
       "      <td>68.3</td>\n",
       "      <td>25.0</td>\n",
       "      <td>46.6</td>\n",
       "      <td>20.0</td>\n",
       "      <td>40.4</td>\n",
       "      <td>20.0</td>\n",
       "      <td>38.6</td>\n",
       "    </tr>\n",
       "  </tbody>\n",
       "</table>\n",
       "</div>"
      ],
      "text/plain": [
       "           0-5  6-10  11-15  16-20  21-25  26-30  31-35  36-40  41-45  46-50  \\\n",
       "Espanyol  74.5  51.5   83.1   48.1   34.6   76.6   64.3   33.9   84.8   69.6   \n",
       "Alavés    25.5  48.5   16.9   51.9   65.4   23.4   35.7   66.1   15.2   30.4   \n",
       "\n",
       "          51-55  56-60  61-65  66-70  71-75  76-80  81-85  86-90  \n",
       "Espanyol   79.7   31.7   75.0   53.4   80.0   59.6   80.0   61.4  \n",
       "Alavés     20.3   68.3   25.0   46.6   20.0   40.4   20.0   38.6  "
      ]
     },
     "execution_count": 31,
     "metadata": {},
     "output_type": "execute_result"
    }
   ],
   "source": [
    "possesion=pd.DataFrame.from_dict(data=interval_poss)\n",
    "possesion"
   ]
  }
 ],
 "metadata": {
  "kernelspec": {
   "display_name": "Python 3",
   "language": "python",
   "name": "python3"
  },
  "language_info": {
   "codemirror_mode": {
    "name": "ipython",
    "version": 3
   },
   "file_extension": ".py",
   "mimetype": "text/x-python",
   "name": "python",
   "nbconvert_exporter": "python",
   "pygments_lexer": "ipython3",
   "version": "3.9.2"
  }
 },
 "nbformat": 4,
 "nbformat_minor": 5
}
