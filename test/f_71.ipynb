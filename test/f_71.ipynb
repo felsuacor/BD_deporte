{
 "cells": [
  {
   "cell_type": "code",
   "execution_count": 1,
   "id": "894a480e",
   "metadata": {},
   "outputs": [],
   "source": [
    "import xml.etree.ElementTree as ET\n",
    "import pandas as pd\n",
    "import plotly.graph_objects as go\n",
    "from sklearn.preprocessing import MinMaxScaler\n",
    "\n",
    "file = ET.parse('C:/Users/Felix/Desktop/Máster  BD Deporte/Módulo 7 - Proveedores de Datos Deportivos/Liga Primera 23/f71/f71-23-2022-2301587-defcoverage.xml')"
   ]
  },
  {
   "cell_type": "code",
   "execution_count": null,
   "id": "85efd5f0",
   "metadata": {},
   "outputs": [],
   "source": [
    "club=[]\n",
    "players=[]\n",
    "stats=[]\n",
    "n_events=[]\n",
    "coord_tot=[]\n",
    "for game in file.getroot():\n",
    "    home_team=game.attrib.get(\"home_team_name\")\n",
    "    away_team=game.attrib.get(\"away_team_name\")\n",
    "    for team in game:\n",
    "        if team.attrib.get(\"Side\")==\"Home\":\n",
    "            team_name=home_team\n",
    "        else:\n",
    "            team_name=away_team\n",
    "        for player in team:\n",
    "            player_name=player.attrib.get(\"player_name\")\n",
    "            for stat in player:\n",
    "                stat_name=str(stat.tag)\n",
    "                stats.append(stat_name)\n",
    "                coords=[]\n",
    "                for point in stat:\n",
    "                    x_coord=point.attrib.get(\"x\")\n",
    "                    y_coord=point.attrib.get(\"y\")\n",
    "                    coords.append((x_coord, y_coord))\n",
    "                coord_tot.append(coords)\n",
    "                if stat_name!=\"DefensiveCoverage\":\n",
    "                    n_events.append(len(coords))\n",
    "                else:\n",
    "                    n_events.append(None)\n",
    "            \n",
    "                players.append(player_name)\n",
    "                club.append(team_name)\n",
    "                \n",
    "df=pd.DataFrame(data = list(zip(club,players,stats,n_events,coord_tot)),\n",
    "                    columns = [\"Team\",\"Player\",\"Defensive Stat\",\"Number of Defensive Actions\",\"Coords of Defensive Actions\"])"
   ]
  }
 ],
 "metadata": {
  "kernelspec": {
   "display_name": "Python 3",
   "language": "python",
   "name": "python3"
  },
  "language_info": {
   "codemirror_mode": {
    "name": "ipython",
    "version": 3
   },
   "file_extension": ".py",
   "mimetype": "text/x-python",
   "name": "python",
   "nbconvert_exporter": "python",
   "pygments_lexer": "ipython3",
   "version": "3.9.2"
  }
 },
 "nbformat": 4,
 "nbformat_minor": 5
}
